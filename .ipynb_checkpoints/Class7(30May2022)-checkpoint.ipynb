{
 "cells": [
  {
   "cell_type": "markdown",
   "id": "e47d04b7",
   "metadata": {},
   "source": [
    "# Python Data Structures \n",
    " - Lists\n",
    " - Dictionaries\n",
    " - Tuple\n",
    " - Set\n",
    " "
   ]
  },
  {
   "cell_type": "markdown",
   "id": "1114488e",
   "metadata": {},
   "source": [
    "# List"
   ]
  },
  {
   "cell_type": "code",
   "execution_count": 5,
   "id": "72bca623",
   "metadata": {},
   "outputs": [],
   "source": [
    "#Definition of list\n",
    "courses = []\n",
    "# empty list"
   ]
  },
  {
   "cell_type": "code",
   "execution_count": 4,
   "id": "d0d94056",
   "metadata": {},
   "outputs": [
    {
     "name": "stdout",
     "output_type": "stream",
     "text": [
      "<class 'list'>\n"
     ]
    }
   ],
   "source": [
    "print(type(courses))"
   ]
  },
  {
   "cell_type": "code",
   "execution_count": 6,
   "id": "631a4b9e",
   "metadata": {},
   "outputs": [],
   "source": [
    "students = [\"Asad\", 'Mahad','Ahmed', \"Ali\"]\n",
    "#index        0        1      2        3   \n",
    "#-ve index   -4        -3     -2       -1"
   ]
  },
  {
   "cell_type": "code",
   "execution_count": 7,
   "id": "63d1fea4",
   "metadata": {},
   "outputs": [
    {
     "data": {
      "text/plain": [
       "['Asad', 'Mahad', 'Ahmed', 'Ali']"
      ]
     },
     "execution_count": 7,
     "metadata": {},
     "output_type": "execute_result"
    }
   ],
   "source": [
    "students"
   ]
  },
  {
   "cell_type": "code",
   "execution_count": 10,
   "id": "7171903c",
   "metadata": {},
   "outputs": [
    {
     "data": {
      "text/plain": [
       "('Asad', 'Asad')"
      ]
     },
     "execution_count": 10,
     "metadata": {},
     "output_type": "execute_result"
    }
   ],
   "source": [
    "students[0] ,students[-4]"
   ]
  },
  {
   "cell_type": "code",
   "execution_count": 9,
   "id": "77de2419",
   "metadata": {},
   "outputs": [
    {
     "data": {
      "text/plain": [
       "'Ahmed'"
      ]
     },
     "execution_count": 9,
     "metadata": {},
     "output_type": "execute_result"
    }
   ],
   "source": [
    "students[2]"
   ]
  },
  {
   "cell_type": "code",
   "execution_count": 11,
   "id": "3dcec513",
   "metadata": {},
   "outputs": [
    {
     "data": {
      "text/plain": [
       "[]"
      ]
     },
     "execution_count": 11,
     "metadata": {},
     "output_type": "execute_result"
    }
   ],
   "source": [
    "courses\n"
   ]
  },
  {
   "cell_type": "code",
   "execution_count": 13,
   "id": "7c58338e",
   "metadata": {},
   "outputs": [
    {
     "ename": "IndexError",
     "evalue": "list assignment index out of range",
     "output_type": "error",
     "traceback": [
      "\u001b[1;31m---------------------------------------------------------------------------\u001b[0m",
      "\u001b[1;31mIndexError\u001b[0m                                Traceback (most recent call last)",
      "\u001b[1;32mC:\\Users\\LAB-02~1\\AppData\\Local\\Temp/ipykernel_9608/1023291040.py\u001b[0m in \u001b[0;36m<module>\u001b[1;34m\u001b[0m\n\u001b[1;32m----> 1\u001b[1;33m \u001b[0mcourses\u001b[0m\u001b[1;33m[\u001b[0m\u001b[1;36m0\u001b[0m\u001b[1;33m]\u001b[0m\u001b[1;33m=\u001b[0m\u001b[1;34m\"Python\"\u001b[0m\u001b[1;33m\u001b[0m\u001b[1;33m\u001b[0m\u001b[0m\n\u001b[0m",
      "\u001b[1;31mIndexError\u001b[0m: list assignment index out of range"
     ]
    }
   ],
   "source": [
    "courses[0]=\"Python\""
   ]
  },
  {
   "cell_type": "code",
   "execution_count": 14,
   "id": "d711fff6",
   "metadata": {},
   "outputs": [],
   "source": [
    "students[1]=\"Nasir\""
   ]
  },
  {
   "cell_type": "code",
   "execution_count": 15,
   "id": "8ef18194",
   "metadata": {},
   "outputs": [
    {
     "data": {
      "text/plain": [
       "['Asad', 'Nasir', 'Ahmed', 'Ali']"
      ]
     },
     "execution_count": 15,
     "metadata": {},
     "output_type": "execute_result"
    }
   ],
   "source": [
    "students\n"
   ]
  },
  {
   "cell_type": "raw",
   "id": "02d9b67e",
   "metadata": {},
   "source": [
    "-CRUD\n",
    "Create Retrieve, Update Delete"
   ]
  },
  {
   "cell_type": "code",
   "execution_count": 16,
   "id": "955fb945",
   "metadata": {},
   "outputs": [],
   "source": [
    "del students[2]"
   ]
  },
  {
   "cell_type": "code",
   "execution_count": 17,
   "id": "0a507bc0",
   "metadata": {},
   "outputs": [
    {
     "data": {
      "text/plain": [
       "['Asad', 'Nasir', 'Ali']"
      ]
     },
     "execution_count": 17,
     "metadata": {},
     "output_type": "execute_result"
    }
   ],
   "source": [
    "students"
   ]
  },
  {
   "cell_type": "code",
   "execution_count": 18,
   "id": "5d05359c",
   "metadata": {},
   "outputs": [],
   "source": [
    "miscList = [students, 122, False, 34.5]"
   ]
  },
  {
   "cell_type": "code",
   "execution_count": 19,
   "id": "28a49fb5",
   "metadata": {},
   "outputs": [
    {
     "data": {
      "text/plain": [
       "[['Asad', 'Nasir', 'Ali'], 122, False, 34.5]"
      ]
     },
     "execution_count": 19,
     "metadata": {},
     "output_type": "execute_result"
    }
   ],
   "source": [
    "miscList"
   ]
  },
  {
   "cell_type": "code",
   "execution_count": 20,
   "id": "b935020e",
   "metadata": {},
   "outputs": [
    {
     "data": {
      "text/plain": [
       "[]"
      ]
     },
     "execution_count": 20,
     "metadata": {},
     "output_type": "execute_result"
    }
   ],
   "source": [
    "courses"
   ]
  },
  {
   "cell_type": "markdown",
   "id": "fcd1d910",
   "metadata": {},
   "source": [
    "To add a new value ina list "
   ]
  },
  {
   "cell_type": "code",
   "execution_count": 21,
   "id": "af5a76f2",
   "metadata": {},
   "outputs": [],
   "source": [
    "courses.append(\"Python\")"
   ]
  },
  {
   "cell_type": "code",
   "execution_count": 22,
   "id": "1cca39f0",
   "metadata": {},
   "outputs": [
    {
     "data": {
      "text/plain": [
       "['Python']"
      ]
     },
     "execution_count": 22,
     "metadata": {},
     "output_type": "execute_result"
    }
   ],
   "source": [
    "courses"
   ]
  },
  {
   "cell_type": "code",
   "execution_count": 23,
   "id": "3e2ea1b0",
   "metadata": {},
   "outputs": [
    {
     "data": {
      "text/plain": [
       "['Python', 'DataSciences']"
      ]
     },
     "execution_count": 23,
     "metadata": {},
     "output_type": "execute_result"
    }
   ],
   "source": [
    "courses.append('DataSciences')\n",
    "courses"
   ]
  },
  {
   "cell_type": "code",
   "execution_count": 24,
   "id": "f2991e96",
   "metadata": {},
   "outputs": [
    {
     "data": {
      "text/plain": [
       "['Python', 'DataSciences', 'Machine Learning']"
      ]
     },
     "execution_count": 24,
     "metadata": {},
     "output_type": "execute_result"
    }
   ],
   "source": [
    "courses.append('Machine Learning')\n",
    "courses"
   ]
  },
  {
   "cell_type": "code",
   "execution_count": 25,
   "id": "8f9ea4fa",
   "metadata": {},
   "outputs": [
    {
     "data": {
      "text/plain": [
       "['Python', 'DataSciences', 'Artificial Intelligence', 'Machine Learning']"
      ]
     },
     "execution_count": 25,
     "metadata": {},
     "output_type": "execute_result"
    }
   ],
   "source": [
    "courses.insert(2, \"Artificial Intelligence\")\n",
    "courses"
   ]
  },
  {
   "cell_type": "code",
   "execution_count": 26,
   "id": "60f7fac4",
   "metadata": {},
   "outputs": [],
   "source": [
    "del courses[0]"
   ]
  },
  {
   "cell_type": "code",
   "execution_count": 27,
   "id": "1ff30ebd",
   "metadata": {},
   "outputs": [
    {
     "data": {
      "text/plain": [
       "['DataSciences', 'Artificial Intelligence', 'Machine Learning']"
      ]
     },
     "execution_count": 27,
     "metadata": {},
     "output_type": "execute_result"
    }
   ],
   "source": [
    "courses"
   ]
  },
  {
   "cell_type": "code",
   "execution_count": 33,
   "id": "f8743ab3",
   "metadata": {},
   "outputs": [
    {
     "ename": "IndexError",
     "evalue": "pop from empty list",
     "output_type": "error",
     "traceback": [
      "\u001b[1;31m---------------------------------------------------------------------------\u001b[0m",
      "\u001b[1;31mIndexError\u001b[0m                                Traceback (most recent call last)",
      "\u001b[1;32mC:\\Users\\LAB-02~1\\AppData\\Local\\Temp/ipykernel_9608/2120906889.py\u001b[0m in \u001b[0;36m<module>\u001b[1;34m\u001b[0m\n\u001b[1;32m----> 1\u001b[1;33m \u001b[0mpopped_values\u001b[0m \u001b[1;33m=\u001b[0m \u001b[0mcourses\u001b[0m\u001b[1;33m.\u001b[0m\u001b[0mpop\u001b[0m\u001b[1;33m(\u001b[0m\u001b[1;33m)\u001b[0m\u001b[1;33m\u001b[0m\u001b[1;33m\u001b[0m\u001b[0m\n\u001b[0m",
      "\u001b[1;31mIndexError\u001b[0m: pop from empty list"
     ]
    }
   ],
   "source": [
    "popped_values = courses.pop()"
   ]
  },
  {
   "cell_type": "code",
   "execution_count": 32,
   "id": "294ba7b6",
   "metadata": {},
   "outputs": [
    {
     "data": {
      "text/plain": [
       "'DataSciences'"
      ]
     },
     "execution_count": 32,
     "metadata": {},
     "output_type": "execute_result"
    }
   ],
   "source": [
    "popped_values"
   ]
  },
  {
   "cell_type": "code",
   "execution_count": 34,
   "id": "767ce5e3",
   "metadata": {},
   "outputs": [
    {
     "ename": "ValueError",
     "evalue": "list.remove(x): x not in list",
     "output_type": "error",
     "traceback": [
      "\u001b[1;31m---------------------------------------------------------------------------\u001b[0m",
      "\u001b[1;31mValueError\u001b[0m                                Traceback (most recent call last)",
      "\u001b[1;32mC:\\Users\\LAB-02~1\\AppData\\Local\\Temp/ipykernel_9608/2841590238.py\u001b[0m in \u001b[0;36m<module>\u001b[1;34m\u001b[0m\n\u001b[1;32m----> 1\u001b[1;33m \u001b[0mcourses\u001b[0m\u001b[1;33m.\u001b[0m\u001b[0mremove\u001b[0m\u001b[1;33m(\u001b[0m\u001b[1;34m'DataSciences'\u001b[0m\u001b[1;33m)\u001b[0m\u001b[1;33m\u001b[0m\u001b[1;33m\u001b[0m\u001b[0m\n\u001b[0m",
      "\u001b[1;31mValueError\u001b[0m: list.remove(x): x not in list"
     ]
    }
   ],
   "source": [
    "courses.remove('DataSciences')"
   ]
  },
  {
   "cell_type": "code",
   "execution_count": 35,
   "id": "e9e50c03",
   "metadata": {},
   "outputs": [
    {
     "data": {
      "text/plain": [
       "[]"
      ]
     },
     "execution_count": 35,
     "metadata": {},
     "output_type": "execute_result"
    }
   ],
   "source": [
    "courses"
   ]
  },
  {
   "cell_type": "code",
   "execution_count": 36,
   "id": "714734cb",
   "metadata": {},
   "outputs": [
    {
     "data": {
      "text/plain": [
       "['Asad', 'Nasir', 'Ali']"
      ]
     },
     "execution_count": 36,
     "metadata": {},
     "output_type": "execute_result"
    }
   ],
   "source": [
    "students"
   ]
  },
  {
   "cell_type": "code",
   "execution_count": 37,
   "id": "74771545",
   "metadata": {},
   "outputs": [],
   "source": [
    "students.clear()"
   ]
  },
  {
   "cell_type": "code",
   "execution_count": 38,
   "id": "e9240536",
   "metadata": {},
   "outputs": [
    {
     "data": {
      "text/plain": [
       "[]"
      ]
     },
     "execution_count": 38,
     "metadata": {},
     "output_type": "execute_result"
    }
   ],
   "source": [
    "students"
   ]
  },
  {
   "cell_type": "code",
   "execution_count": 39,
   "id": "a62f88ad",
   "metadata": {},
   "outputs": [],
   "source": [
    "students= ['Asad', 'Nasir', 'Ali']"
   ]
  },
  {
   "cell_type": "code",
   "execution_count": 41,
   "id": "dbadaaad",
   "metadata": {},
   "outputs": [
    {
     "data": {
      "text/plain": [
       "['Asad', 'Nasir', 'Ali']"
      ]
     },
     "execution_count": 41,
     "metadata": {},
     "output_type": "execute_result"
    }
   ],
   "source": [
    "my_students = students\n",
    "my_students"
   ]
  },
  {
   "cell_type": "markdown",
   "id": "53cd14a3",
   "metadata": {},
   "source": [
    "Pass by reference \n",
    "\n",
    "Pass by value"
   ]
  },
  {
   "cell_type": "code",
   "execution_count": 42,
   "id": "5d8e10b2",
   "metadata": {},
   "outputs": [
    {
     "data": {
      "text/plain": [
       "['Asad', 'Nasir', 'Ali', 'Kamran']"
      ]
     },
     "execution_count": 42,
     "metadata": {},
     "output_type": "execute_result"
    }
   ],
   "source": [
    "my_students.append(\"Kamran\")\n",
    "my_students"
   ]
  },
  {
   "cell_type": "code",
   "execution_count": 43,
   "id": "70b14396",
   "metadata": {},
   "outputs": [
    {
     "data": {
      "text/plain": [
       "['Asad', 'Nasir', 'Ali', 'Kamran']"
      ]
     },
     "execution_count": 43,
     "metadata": {},
     "output_type": "execute_result"
    }
   ],
   "source": [
    "students"
   ]
  },
  {
   "cell_type": "code",
   "execution_count": 46,
   "id": "dfd1f0a0",
   "metadata": {},
   "outputs": [],
   "source": [
    "new_students = students.copy()"
   ]
  },
  {
   "cell_type": "code",
   "execution_count": 47,
   "id": "308cd80a",
   "metadata": {},
   "outputs": [
    {
     "data": {
      "text/plain": [
       "['Asad', 'Nasir', 'Ali', 'Kamran']"
      ]
     },
     "execution_count": 47,
     "metadata": {},
     "output_type": "execute_result"
    }
   ],
   "source": [
    "new_students"
   ]
  },
  {
   "cell_type": "code",
   "execution_count": 48,
   "id": "c621bb86",
   "metadata": {},
   "outputs": [],
   "source": [
    "a=100"
   ]
  },
  {
   "cell_type": "code",
   "execution_count": 49,
   "id": "2630eb7b",
   "metadata": {},
   "outputs": [],
   "source": [
    "b =a"
   ]
  },
  {
   "cell_type": "code",
   "execution_count": 50,
   "id": "42a48f57",
   "metadata": {},
   "outputs": [
    {
     "data": {
      "text/plain": [
       "100"
      ]
     },
     "execution_count": 50,
     "metadata": {},
     "output_type": "execute_result"
    }
   ],
   "source": [
    "b "
   ]
  },
  {
   "cell_type": "code",
   "execution_count": 55,
   "id": "db5c3329",
   "metadata": {},
   "outputs": [],
   "source": [
    "c = 100.1"
   ]
  },
  {
   "cell_type": "code",
   "execution_count": 52,
   "id": "bd2bd307",
   "metadata": {},
   "outputs": [
    {
     "data": {
      "text/plain": [
       "1958009460176"
      ]
     },
     "execution_count": 52,
     "metadata": {},
     "output_type": "execute_result"
    }
   ],
   "source": [
    "id(a)"
   ]
  },
  {
   "cell_type": "code",
   "execution_count": 53,
   "id": "5bccb5cf",
   "metadata": {},
   "outputs": [
    {
     "data": {
      "text/plain": [
       "1958009460176"
      ]
     },
     "execution_count": 53,
     "metadata": {},
     "output_type": "execute_result"
    }
   ],
   "source": [
    "id(b)"
   ]
  },
  {
   "cell_type": "code",
   "execution_count": 56,
   "id": "f79c5a3d",
   "metadata": {},
   "outputs": [
    {
     "data": {
      "text/plain": [
       "1958130985872"
      ]
     },
     "execution_count": 56,
     "metadata": {},
     "output_type": "execute_result"
    }
   ],
   "source": [
    "id(c)"
   ]
  },
  {
   "cell_type": "code",
   "execution_count": 57,
   "id": "e86ca2d5",
   "metadata": {},
   "outputs": [
    {
     "data": {
      "text/plain": [
       "0"
      ]
     },
     "execution_count": 57,
     "metadata": {},
     "output_type": "execute_result"
    }
   ],
   "source": [
    "students.count(\"asad\")"
   ]
  },
  {
   "cell_type": "code",
   "execution_count": 58,
   "id": "e5cdc95d",
   "metadata": {},
   "outputs": [
    {
     "data": {
      "text/plain": [
       "['Asad', 'Nasir', 'Ali', 'Kamran']"
      ]
     },
     "execution_count": 58,
     "metadata": {},
     "output_type": "execute_result"
    }
   ],
   "source": [
    "students"
   ]
  },
  {
   "cell_type": "code",
   "execution_count": 59,
   "id": "716e4552",
   "metadata": {},
   "outputs": [
    {
     "data": {
      "text/plain": [
       "['Asad', 'Nasir', 'Ali', 'Kamran']"
      ]
     },
     "execution_count": 59,
     "metadata": {},
     "output_type": "execute_result"
    }
   ],
   "source": [
    "new_students\n"
   ]
  },
  {
   "cell_type": "code",
   "execution_count": 60,
   "id": "235943c6",
   "metadata": {},
   "outputs": [],
   "source": [
    "students.append(new_students)"
   ]
  },
  {
   "cell_type": "code",
   "execution_count": 61,
   "id": "d2814766",
   "metadata": {},
   "outputs": [
    {
     "data": {
      "text/plain": [
       "['Asad', 'Nasir', 'Ali', 'Kamran', ['Asad', 'Nasir', 'Ali', 'Kamran']]"
      ]
     },
     "execution_count": 61,
     "metadata": {},
     "output_type": "execute_result"
    }
   ],
   "source": [
    "students"
   ]
  },
  {
   "cell_type": "code",
   "execution_count": 62,
   "id": "80c2bcff",
   "metadata": {},
   "outputs": [
    {
     "data": {
      "text/plain": [
       "'p'"
      ]
     },
     "execution_count": 62,
     "metadata": {},
     "output_type": "execute_result"
    }
   ],
   "source": [
    "'pAKISTAN'[0]"
   ]
  },
  {
   "cell_type": "code",
   "execution_count": 63,
   "id": "1c1d6bd2",
   "metadata": {},
   "outputs": [
    {
     "data": {
      "text/plain": [
       "['Asad', 'Nasir', 'Ali', 'Kamran', 'a', 'b', 'c', 'd']"
      ]
     },
     "execution_count": 63,
     "metadata": {},
     "output_type": "execute_result"
    }
   ],
   "source": [
    "new_students.extend(['a','b','c','d'])\n",
    "new_students"
   ]
  },
  {
   "cell_type": "code",
   "execution_count": 64,
   "id": "fa19bf0d",
   "metadata": {},
   "outputs": [],
   "source": [
    "new_students.extend(\"Python\")"
   ]
  },
  {
   "cell_type": "code",
   "execution_count": 65,
   "id": "95c65c41",
   "metadata": {},
   "outputs": [
    {
     "data": {
      "text/plain": [
       "['Asad',\n",
       " 'Nasir',\n",
       " 'Ali',\n",
       " 'Kamran',\n",
       " 'a',\n",
       " 'b',\n",
       " 'c',\n",
       " 'd',\n",
       " 'P',\n",
       " 'y',\n",
       " 't',\n",
       " 'h',\n",
       " 'o',\n",
       " 'n']"
      ]
     },
     "execution_count": 65,
     "metadata": {},
     "output_type": "execute_result"
    }
   ],
   "source": [
    "new_students"
   ]
  },
  {
   "cell_type": "code",
   "execution_count": 66,
   "id": "fc49aec9",
   "metadata": {},
   "outputs": [
    {
     "ename": "TypeError",
     "evalue": "'int' object is not iterable",
     "output_type": "error",
     "traceback": [
      "\u001b[1;31m---------------------------------------------------------------------------\u001b[0m",
      "\u001b[1;31mTypeError\u001b[0m                                 Traceback (most recent call last)",
      "\u001b[1;32mC:\\Users\\LAB-02~1\\AppData\\Local\\Temp/ipykernel_9608/2568660756.py\u001b[0m in \u001b[0;36m<module>\u001b[1;34m\u001b[0m\n\u001b[1;32m----> 1\u001b[1;33m \u001b[0mnew_students\u001b[0m\u001b[1;33m.\u001b[0m\u001b[0mextend\u001b[0m\u001b[1;33m(\u001b[0m\u001b[1;36m125469\u001b[0m\u001b[1;33m)\u001b[0m\u001b[1;33m\u001b[0m\u001b[1;33m\u001b[0m\u001b[0m\n\u001b[0m",
      "\u001b[1;31mTypeError\u001b[0m: 'int' object is not iterable"
     ]
    }
   ],
   "source": [
    "new_students.extend(125469)"
   ]
  },
  {
   "cell_type": "code",
   "execution_count": 67,
   "id": "bb22ed00",
   "metadata": {},
   "outputs": [
    {
     "data": {
      "text/plain": [
       "2"
      ]
     },
     "execution_count": 67,
     "metadata": {},
     "output_type": "execute_result"
    }
   ],
   "source": [
    "students.index('Ali')"
   ]
  },
  {
   "cell_type": "code",
   "execution_count": 68,
   "id": "dbbc1ff0",
   "metadata": {},
   "outputs": [
    {
     "ename": "ValueError",
     "evalue": "'ali' is not in list",
     "output_type": "error",
     "traceback": [
      "\u001b[1;31m---------------------------------------------------------------------------\u001b[0m",
      "\u001b[1;31mValueError\u001b[0m                                Traceback (most recent call last)",
      "\u001b[1;32mC:\\Users\\LAB-02~1\\AppData\\Local\\Temp/ipykernel_9608/4128251237.py\u001b[0m in \u001b[0;36m<module>\u001b[1;34m\u001b[0m\n\u001b[1;32m----> 1\u001b[1;33m \u001b[0mstudents\u001b[0m\u001b[1;33m.\u001b[0m\u001b[0mindex\u001b[0m\u001b[1;33m(\u001b[0m\u001b[1;34m'ali'\u001b[0m\u001b[1;33m)\u001b[0m\u001b[1;33m\u001b[0m\u001b[1;33m\u001b[0m\u001b[0m\n\u001b[0m",
      "\u001b[1;31mValueError\u001b[0m: 'ali' is not in list"
     ]
    }
   ],
   "source": [
    "students.index('ali')"
   ]
  },
  {
   "cell_type": "code",
   "execution_count": 72,
   "id": "8d9dde46",
   "metadata": {},
   "outputs": [],
   "source": [
    "del students[4]"
   ]
  },
  {
   "cell_type": "code",
   "execution_count": 74,
   "id": "52193e10",
   "metadata": {},
   "outputs": [],
   "source": [
    "students.append(\"fahad\")\n",
    "students.append(\"hassan\")\n",
    "students.append(\"ghous\")"
   ]
  },
  {
   "cell_type": "code",
   "execution_count": null,
   "id": "0de8d5fc",
   "metadata": {},
   "outputs": [],
   "source": []
  },
  {
   "cell_type": "code",
   "execution_count": 75,
   "id": "003d8301",
   "metadata": {},
   "outputs": [
    {
     "data": {
      "text/plain": [
       "['Ali', 'Asad', 'Kamran', 'Nasir', 'fahad', 'hassan', 'ghous']"
      ]
     },
     "execution_count": 75,
     "metadata": {},
     "output_type": "execute_result"
    }
   ],
   "source": [
    "students"
   ]
  },
  {
   "cell_type": "code",
   "execution_count": null,
   "id": "21d6c19a",
   "metadata": {},
   "outputs": [],
   "source": []
  }
 ],
 "metadata": {
  "kernelspec": {
   "display_name": "Python 3 (ipykernel)",
   "language": "python",
   "name": "python3"
  },
  "language_info": {
   "codemirror_mode": {
    "name": "ipython",
    "version": 3
   },
   "file_extension": ".py",
   "mimetype": "text/x-python",
   "name": "python",
   "nbconvert_exporter": "python",
   "pygments_lexer": "ipython3",
   "version": "3.9.7"
  }
 },
 "nbformat": 4,
 "nbformat_minor": 5
}
